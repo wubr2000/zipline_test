{
 "metadata": {
  "name": "",
  "signature": "sha256:553b421735fbdbb49f8d4f6a6e73adf1ac59975ee422ecc7d280a28d679ea312"
 },
 "nbformat": 3,
 "nbformat_minor": 0,
 "worksheets": [
  {
   "cells": [
    {
     "cell_type": "code",
     "collapsed": false,
     "input": [
      "from zipline.api import order, record, symbol \n",
      "\n",
      "def initialize(context):\n",
      "    pass\n",
      "\n",
      "\n",
      "def handle_data(context, data):\n",
      "    order(symbol('AAPL'), 10)\n",
      "    record(AAPL=data[symbol('AAPL')].price)\n"
     ],
     "language": "python",
     "metadata": {},
     "outputs": [],
     "prompt_number": 4
    },
    {
     "cell_type": "code",
     "collapsed": false,
     "input": [],
     "language": "python",
     "metadata": {},
     "outputs": []
    }
   ],
   "metadata": {}
  }
 ]
}