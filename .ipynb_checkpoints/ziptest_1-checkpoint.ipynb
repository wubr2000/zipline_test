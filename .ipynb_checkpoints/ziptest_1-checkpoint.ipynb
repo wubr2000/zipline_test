{
 "metadata": {
  "name": "",
  "signature": "sha256:5e63e591b3fe524817816610b5fd94ce51c247b29670c5839be92531fc600344"
 },
 "nbformat": 3,
 "nbformat_minor": 0,
 "worksheets": [
  {
   "cells": [
    {
     "cell_type": "code",
     "collapsed": false,
     "input": [
      "import zipline"
     ],
     "language": "python",
     "metadata": {},
     "outputs": []
    },
    {
     "cell_type": "code",
     "collapsed": false,
     "input": [
      "%%zipline --start 2000-1-1 --end 2014-1-1 --symbols AAPL -o perf_ipython\n",
      "\n",
      "from zipline.api import symbol, order, record\n",
      "\n",
      "def initialize(context):\n",
      "    pass\n",
      "\n",
      "def handle_data(context, data):\n",
      "    order(symbol('AAPL'), 10)\n",
      "    record(AAPL=data[symbol('AAPL')].price)"
     ],
     "language": "python",
     "metadata": {},
     "outputs": [
      {
       "output_type": "stream",
       "stream": "stdout",
       "text": [
        "AAPL\n",
        "data files aren't distributed with source.\n",
        "Fetching data from Yahoo Finance."
       ]
      },
      {
       "output_type": "stream",
       "stream": "stdout",
       "text": [
        "\n",
        "data files aren't distributed with source.\n",
        "Fetching data from data.treasury.gov"
       ]
      },
      {
       "output_type": "stream",
       "stream": "stderr",
       "text": [
        "[2015-08-31 21:47] INFO: Performance: Simulated 3521 trading days out of 3521.\n"
       ]
      },
      {
       "output_type": "stream",
       "stream": "stderr",
       "text": [
        "[2015-08-31 21:47] INFO: Performance: first open: 2000-01-03 14:31:00+00:00\n"
       ]
      },
      {
       "output_type": "stream",
       "stream": "stderr",
       "text": [
        "[2015-08-31 21:47] INFO: Performance: last close: 2013-12-31 21:00:00+00:00\n"
       ]
      },
      {
       "output_type": "stream",
       "stream": "stdout",
       "text": [
        "\n"
       ]
      }
     ],
     "prompt_number": 6
    },
    {
     "cell_type": "code",
     "collapsed": false,
     "input": [
      "len(perf_ipython)"
     ],
     "language": "python",
     "metadata": {},
     "outputs": [
      {
       "metadata": {},
       "output_type": "pyout",
       "prompt_number": 9,
       "text": [
        "3521"
       ]
      }
     ],
     "prompt_number": 9
    },
    {
     "cell_type": "code",
     "collapsed": false,
     "input": [
      "perf_ipython.head()"
     ],
     "language": "python",
     "metadata": {},
     "outputs": [
      {
       "html": [
        "<div style=\"max-height:1000px;max-width:1500px;overflow:auto;\">\n",
        "<table border=\"1\" class=\"dataframe\">\n",
        "  <thead>\n",
        "    <tr style=\"text-align: right;\">\n",
        "      <th></th>\n",
        "      <th>AAPL</th>\n",
        "      <th>capital_used</th>\n",
        "      <th>ending_cash</th>\n",
        "      <th>ending_value</th>\n",
        "      <th>orders</th>\n",
        "      <th>period_close</th>\n",
        "      <th>period_open</th>\n",
        "      <th>pnl</th>\n",
        "      <th>portfolio_value</th>\n",
        "      <th>positions</th>\n",
        "      <th>returns</th>\n",
        "      <th>starting_cash</th>\n",
        "      <th>starting_value</th>\n",
        "      <th>transactions</th>\n",
        "    </tr>\n",
        "  </thead>\n",
        "  <tbody>\n",
        "    <tr>\n",
        "      <th>2000-01-03 21:00:00</th>\n",
        "      <td> 3.738316</td>\n",
        "      <td>  0.00000</td>\n",
        "      <td> 10000000.00000</td>\n",
        "      <td>   0.00000</td>\n",
        "      <td> [{u'status': 0, u'created': 2000-01-03 00:00:0...</td>\n",
        "      <td> 2000-01-03 21:00:00+00:00</td>\n",
        "      <td> 2000-01-03 14:31:00+00:00</td>\n",
        "      <td> 0.00000</td>\n",
        "      <td> 10000000.00000</td>\n",
        "      <td>                                                []</td>\n",
        "      <td> 0.000000e+00</td>\n",
        "      <td> 10000000.00000</td>\n",
        "      <td>  0.00000</td>\n",
        "      <td>                                                []</td>\n",
        "    </tr>\n",
        "    <tr>\n",
        "      <th>2000-01-04 21:00:00</th>\n",
        "      <td> 3.423131</td>\n",
        "      <td>-34.53131</td>\n",
        "      <td>  9999965.46869</td>\n",
        "      <td>  34.23131</td>\n",
        "      <td> [{u'status': 1, u'created': 2000-01-03 00:00:0...</td>\n",
        "      <td> 2000-01-04 21:00:00+00:00</td>\n",
        "      <td> 2000-01-04 14:31:00+00:00</td>\n",
        "      <td>-0.30000</td>\n",
        "      <td>  9999999.70000</td>\n",
        "      <td> [{u'amount': 10, u'last_sale_price': 3.423131,...</td>\n",
        "      <td>-3.000000e-08</td>\n",
        "      <td> 10000000.00000</td>\n",
        "      <td>  0.00000</td>\n",
        "      <td> [{u'commission': 0.3, u'amount': 10, u'sid': u...</td>\n",
        "    </tr>\n",
        "    <tr>\n",
        "      <th>2000-01-05 21:00:00</th>\n",
        "      <td> 3.473233</td>\n",
        "      <td>-35.03233</td>\n",
        "      <td>  9999930.43636</td>\n",
        "      <td>  69.46466</td>\n",
        "      <td> [{u'status': 1, u'created': 2000-01-04 00:00:0...</td>\n",
        "      <td> 2000-01-05 21:00:00+00:00</td>\n",
        "      <td> 2000-01-05 14:31:00+00:00</td>\n",
        "      <td> 0.20102</td>\n",
        "      <td>  9999999.90102</td>\n",
        "      <td> [{u'amount': 20, u'last_sale_price': 3.473233,...</td>\n",
        "      <td> 2.010200e-08</td>\n",
        "      <td>  9999965.46869</td>\n",
        "      <td> 34.23131</td>\n",
        "      <td> [{u'commission': 0.3, u'amount': 10, u'sid': u...</td>\n",
        "    </tr>\n",
        "    <tr>\n",
        "      <th>2000-01-06 21:00:00</th>\n",
        "      <td> 3.172664</td>\n",
        "      <td>-32.02664</td>\n",
        "      <td>  9999898.40972</td>\n",
        "      <td>  95.17992</td>\n",
        "      <td> [{u'status': 1, u'created': 2000-01-05 00:00:0...</td>\n",
        "      <td> 2000-01-06 21:00:00+00:00</td>\n",
        "      <td> 2000-01-06 14:31:00+00:00</td>\n",
        "      <td>-6.31138</td>\n",
        "      <td>  9999993.58964</td>\n",
        "      <td> [{u'amount': 30, u'last_sale_price': 3.172664,...</td>\n",
        "      <td>-6.311380e-07</td>\n",
        "      <td>  9999930.43636</td>\n",
        "      <td> 69.46466</td>\n",
        "      <td> [{u'commission': 0.3, u'amount': 10, u'sid': u...</td>\n",
        "    </tr>\n",
        "    <tr>\n",
        "      <th>2000-01-07 21:00:00</th>\n",
        "      <td> 3.322944</td>\n",
        "      <td>-33.52944</td>\n",
        "      <td>  9999864.88028</td>\n",
        "      <td> 132.91776</td>\n",
        "      <td> [{u'status': 1, u'created': 2000-01-06 00:00:0...</td>\n",
        "      <td> 2000-01-07 21:00:00+00:00</td>\n",
        "      <td> 2000-01-07 14:31:00+00:00</td>\n",
        "      <td> 4.20840</td>\n",
        "      <td>  9999997.79804</td>\n",
        "      <td> [{u'amount': 40, u'last_sale_price': 3.322944,...</td>\n",
        "      <td> 4.208403e-07</td>\n",
        "      <td>  9999898.40972</td>\n",
        "      <td> 95.17992</td>\n",
        "      <td> [{u'commission': 0.3, u'amount': 10, u'sid': u...</td>\n",
        "    </tr>\n",
        "  </tbody>\n",
        "</table>\n",
        "</div>"
       ],
       "metadata": {},
       "output_type": "pyout",
       "prompt_number": 12,
       "text": [
        "                         AAPL  capital_used     ending_cash  ending_value  \\\n",
        "2000-01-03 21:00:00  3.738316       0.00000  10000000.00000       0.00000   \n",
        "2000-01-04 21:00:00  3.423131     -34.53131   9999965.46869      34.23131   \n",
        "2000-01-05 21:00:00  3.473233     -35.03233   9999930.43636      69.46466   \n",
        "2000-01-06 21:00:00  3.172664     -32.02664   9999898.40972      95.17992   \n",
        "2000-01-07 21:00:00  3.322944     -33.52944   9999864.88028     132.91776   \n",
        "\n",
        "                                                                orders  \\\n",
        "2000-01-03 21:00:00  [{u'status': 0, u'created': 2000-01-03 00:00:0...   \n",
        "2000-01-04 21:00:00  [{u'status': 1, u'created': 2000-01-03 00:00:0...   \n",
        "2000-01-05 21:00:00  [{u'status': 1, u'created': 2000-01-04 00:00:0...   \n",
        "2000-01-06 21:00:00  [{u'status': 1, u'created': 2000-01-05 00:00:0...   \n",
        "2000-01-07 21:00:00  [{u'status': 1, u'created': 2000-01-06 00:00:0...   \n",
        "\n",
        "                                  period_close                period_open  \\\n",
        "2000-01-03 21:00:00  2000-01-03 21:00:00+00:00  2000-01-03 14:31:00+00:00   \n",
        "2000-01-04 21:00:00  2000-01-04 21:00:00+00:00  2000-01-04 14:31:00+00:00   \n",
        "2000-01-05 21:00:00  2000-01-05 21:00:00+00:00  2000-01-05 14:31:00+00:00   \n",
        "2000-01-06 21:00:00  2000-01-06 21:00:00+00:00  2000-01-06 14:31:00+00:00   \n",
        "2000-01-07 21:00:00  2000-01-07 21:00:00+00:00  2000-01-07 14:31:00+00:00   \n",
        "\n",
        "                         pnl  portfolio_value  \\\n",
        "2000-01-03 21:00:00  0.00000   10000000.00000   \n",
        "2000-01-04 21:00:00 -0.30000    9999999.70000   \n",
        "2000-01-05 21:00:00  0.20102    9999999.90102   \n",
        "2000-01-06 21:00:00 -6.31138    9999993.58964   \n",
        "2000-01-07 21:00:00  4.20840    9999997.79804   \n",
        "\n",
        "                                                             positions  \\\n",
        "2000-01-03 21:00:00                                                 []   \n",
        "2000-01-04 21:00:00  [{u'amount': 10, u'last_sale_price': 3.423131,...   \n",
        "2000-01-05 21:00:00  [{u'amount': 20, u'last_sale_price': 3.473233,...   \n",
        "2000-01-06 21:00:00  [{u'amount': 30, u'last_sale_price': 3.172664,...   \n",
        "2000-01-07 21:00:00  [{u'amount': 40, u'last_sale_price': 3.322944,...   \n",
        "\n",
        "                          returns   starting_cash  starting_value  \\\n",
        "2000-01-03 21:00:00  0.000000e+00  10000000.00000         0.00000   \n",
        "2000-01-04 21:00:00 -3.000000e-08  10000000.00000         0.00000   \n",
        "2000-01-05 21:00:00  2.010200e-08   9999965.46869        34.23131   \n",
        "2000-01-06 21:00:00 -6.311380e-07   9999930.43636        69.46466   \n",
        "2000-01-07 21:00:00  4.208403e-07   9999898.40972        95.17992   \n",
        "\n",
        "                                                          transactions  \n",
        "2000-01-03 21:00:00                                                 []  \n",
        "2000-01-04 21:00:00  [{u'commission': 0.3, u'amount': 10, u'sid': u...  \n",
        "2000-01-05 21:00:00  [{u'commission': 0.3, u'amount': 10, u'sid': u...  \n",
        "2000-01-06 21:00:00  [{u'commission': 0.3, u'amount': 10, u'sid': u...  \n",
        "2000-01-07 21:00:00  [{u'commission': 0.3, u'amount': 10, u'sid': u...  "
       ]
      }
     ],
     "prompt_number": 12
    },
    {
     "cell_type": "code",
     "collapsed": false,
     "input": [
      "#Details of how the Zipline API works:\n",
      "import pytz\n",
      "from datetime import datetime\n",
      "\n",
      "from zipline.algorithm import TradingAlgorithm\n",
      "from zipline.utils.factory import load_bars_from_yahoo\n",
      "\n",
      "# Load data manually from Yahoo! finance\n",
      "start = datetime(2000, 1, 1, 0, 0, 0, 0, pytz.utc)\n",
      "end = datetime(2012, 1, 1, 0, 0, 0, 0, pytz.utc)\n",
      "data = load_bars_from_yahoo(stocks=['AAPL'], start=start,\n",
      "                            end=end)\n",
      "\n",
      "# Define algorithm\n",
      "def initialize(context):\n",
      "    pass\n",
      "\n",
      "def handle_data(context, data):\n",
      "    order(symbol('AAPL'), 10)\n",
      "    record(AAPL=data[symbol('AAPL')].price)\n",
      "\n",
      "# Create algorithm object passing in initialize and\n",
      "# handle_data functions\n",
      "algo_obj = TradingAlgorithm(initialize=initialize, \n",
      "                            handle_data=handle_data)"
     ],
     "language": "python",
     "metadata": {},
     "outputs": [
      {
       "output_type": "stream",
       "stream": "stdout",
       "text": [
        "AAPL\n"
       ]
      }
     ],
     "prompt_number": 13
    },
    {
     "cell_type": "code",
     "collapsed": false,
     "input": [
      "# Run algorithm\n",
      "perf_manual = algo_obj.run(data)"
     ],
     "language": "python",
     "metadata": {},
     "outputs": [
      {
       "output_type": "stream",
       "stream": "stderr",
       "text": [
        "[2015-08-31 21:58] INFO: Performance: Simulated 3019 trading days out of 3019.\n"
       ]
      },
      {
       "output_type": "stream",
       "stream": "stderr",
       "text": [
        "[2015-08-31 21:58] INFO: Performance: first open: 2000-01-03 14:31:00+00:00\n"
       ]
      },
      {
       "output_type": "stream",
       "stream": "stderr",
       "text": [
        "[2015-08-31 21:58] INFO: Performance: last close: 2011-12-30 21:00:00+00:00\n"
       ]
      }
     ],
     "prompt_number": 14
    },
    {
     "cell_type": "code",
     "collapsed": false,
     "input": [
      "perf_manual.head(2)"
     ],
     "language": "python",
     "metadata": {},
     "outputs": [
      {
       "html": [
        "<div style=\"max-height:1000px;max-width:1500px;overflow:auto;\">\n",
        "<table border=\"1\" class=\"dataframe\">\n",
        "  <thead>\n",
        "    <tr style=\"text-align: right;\">\n",
        "      <th></th>\n",
        "      <th>AAPL</th>\n",
        "      <th>capital_used</th>\n",
        "      <th>ending_cash</th>\n",
        "      <th>ending_value</th>\n",
        "      <th>orders</th>\n",
        "      <th>period_close</th>\n",
        "      <th>period_open</th>\n",
        "      <th>pnl</th>\n",
        "      <th>portfolio_value</th>\n",
        "      <th>positions</th>\n",
        "      <th>returns</th>\n",
        "      <th>starting_cash</th>\n",
        "      <th>starting_value</th>\n",
        "      <th>transactions</th>\n",
        "    </tr>\n",
        "  </thead>\n",
        "  <tbody>\n",
        "    <tr>\n",
        "      <th>2000-01-03 21:00:00</th>\n",
        "      <td> 3.738316</td>\n",
        "      <td>  0.00000</td>\n",
        "      <td> 100000.00000</td>\n",
        "      <td>  0.00000</td>\n",
        "      <td> [{u'status': 0, u'created': 2000-01-03 00:00:0...</td>\n",
        "      <td> 2000-01-03 21:00:00+00:00</td>\n",
        "      <td> 2000-01-03 14:31:00+00:00</td>\n",
        "      <td> 0.0</td>\n",
        "      <td> 100000.0</td>\n",
        "      <td>                                                []</td>\n",
        "      <td> 0.000000</td>\n",
        "      <td> 100000</td>\n",
        "      <td> 0</td>\n",
        "      <td>                                                []</td>\n",
        "    </tr>\n",
        "    <tr>\n",
        "      <th>2000-01-04 21:00:00</th>\n",
        "      <td> 3.423131</td>\n",
        "      <td>-34.53131</td>\n",
        "      <td>  99965.46869</td>\n",
        "      <td> 34.23131</td>\n",
        "      <td> [{u'status': 1, u'created': 2000-01-03 00:00:0...</td>\n",
        "      <td> 2000-01-04 21:00:00+00:00</td>\n",
        "      <td> 2000-01-04 14:31:00+00:00</td>\n",
        "      <td>-0.3</td>\n",
        "      <td>  99999.7</td>\n",
        "      <td> [{u'amount': 10, u'last_sale_price': 3.423131,...</td>\n",
        "      <td>-0.000003</td>\n",
        "      <td> 100000</td>\n",
        "      <td> 0</td>\n",
        "      <td> [{u'commission': 0.3, u'amount': 10, u'sid': u...</td>\n",
        "    </tr>\n",
        "  </tbody>\n",
        "</table>\n",
        "</div>"
       ],
       "metadata": {},
       "output_type": "pyout",
       "prompt_number": 15,
       "text": [
        "                         AAPL  capital_used   ending_cash  ending_value  \\\n",
        "2000-01-03 21:00:00  3.738316       0.00000  100000.00000       0.00000   \n",
        "2000-01-04 21:00:00  3.423131     -34.53131   99965.46869      34.23131   \n",
        "\n",
        "                                                                orders  \\\n",
        "2000-01-03 21:00:00  [{u'status': 0, u'created': 2000-01-03 00:00:0...   \n",
        "2000-01-04 21:00:00  [{u'status': 1, u'created': 2000-01-03 00:00:0...   \n",
        "\n",
        "                                  period_close                period_open  \\\n",
        "2000-01-03 21:00:00  2000-01-03 21:00:00+00:00  2000-01-03 14:31:00+00:00   \n",
        "2000-01-04 21:00:00  2000-01-04 21:00:00+00:00  2000-01-04 14:31:00+00:00   \n",
        "\n",
        "                     pnl  portfolio_value  \\\n",
        "2000-01-03 21:00:00  0.0         100000.0   \n",
        "2000-01-04 21:00:00 -0.3          99999.7   \n",
        "\n",
        "                                                             positions  \\\n",
        "2000-01-03 21:00:00                                                 []   \n",
        "2000-01-04 21:00:00  [{u'amount': 10, u'last_sale_price': 3.423131,...   \n",
        "\n",
        "                      returns  starting_cash  starting_value  \\\n",
        "2000-01-03 21:00:00  0.000000         100000               0   \n",
        "2000-01-04 21:00:00 -0.000003         100000               0   \n",
        "\n",
        "                                                          transactions  \n",
        "2000-01-03 21:00:00                                                 []  \n",
        "2000-01-04 21:00:00  [{u'commission': 0.3, u'amount': 10, u'sid': u...  "
       ]
      }
     ],
     "prompt_number": 15
    },
    {
     "cell_type": "markdown",
     "metadata": {},
     "source": [
      "###Dual Moving Average Cross-Over"
     ]
    },
    {
     "cell_type": "code",
     "collapsed": false,
     "input": [
      "%%zipline --start 2000-1-1 --end 2014-1-1 --symbols AAPL -o perf_dma\n",
      "\n",
      "from zipline.api import order_target, record, symbol, history, add_history\n",
      "import numpy as np\n",
      "\n",
      "def initialize(context):\n",
      "    # Register 2 histories that track daily prices,\n",
      "    # one with a 100 window and one with a 300 day window\n",
      "    add_history(100, '1d', 'price')\n",
      "    add_history(300, '1d', 'price')\n",
      "\n",
      "    context.i = 0\n",
      "\n",
      "\n",
      "def handle_data(context, data):\n",
      "    # Skip first 300 days to get full windows\n",
      "    context.i += 1\n",
      "    if context.i < 300:\n",
      "        return\n",
      "\n",
      "    # Compute averages\n",
      "    # history() has to be called with the same params\n",
      "    # from above and returns a pandas dataframe.\n",
      "    short_mavg = history(100, '1d', 'price').mean()\n",
      "    long_mavg = history(300, '1d', 'price').mean()\n",
      "\n",
      "    # Trading logic\n",
      "    if short_mavg[0] > long_mavg[0]:\n",
      "        # order_target orders as many shares as needed to\n",
      "        # achieve the desired number of shares.\n",
      "        order_target(symbol('AAPL'), 100)\n",
      "    elif short_mavg[0] < long_mavg[0]:\n",
      "        order_target(symbol('AAPL'), 0)\n",
      "\n",
      "    # Save values for later inspection\n",
      "    record(AAPL=data[symbol('AAPL')].price,\n",
      "           short_mavg=short_mavg[0],\n",
      "           long_mavg=long_mavg[0])\n",
      "\n",
      "\n",
      "def analyze(context, perf):\n",
      "    fig = plt.figure()\n",
      "    ax1 = fig.add_subplot(211)\n",
      "    perf.portfolio_value.plot(ax=ax1)\n",
      "    ax1.set_ylabel('portfolio value in $')\n",
      "\n",
      "    ax2 = fig.add_subplot(212)\n",
      "    perf['AAPL'].plot(ax=ax2)\n",
      "    perf[['short_mavg', 'long_mavg']].plot(ax=ax2)\n",
      "\n",
      "    perf_trans = perf.ix[[t != [] for t in perf.transactions]]\n",
      "    buys = perf_trans.ix[[t[0]['amount'] > 0 for t in perf_trans.transactions]]\n",
      "    sells = perf_trans.ix[\n",
      "        [t[0]['amount'] < 0 for t in perf_trans.transactions]]\n",
      "    ax2.plot(buys.index, perf.short_mavg.ix[buys.index],\n",
      "             '^', markersize=10, color='m')\n",
      "    ax2.plot(sells.index, perf.short_mavg.ix[sells.index],\n",
      "             'v', markersize=10, color='k')\n",
      "    ax2.set_ylabel('price in $')\n",
      "    plt.legend(loc=0)\n",
      "    plt.show()"
     ],
     "language": "python",
     "metadata": {},
     "outputs": [
      {
       "output_type": "stream",
       "stream": "stderr",
       "text": [
        "[2015-08-31 22:05] INFO: Performance: Simulated 3521 trading days out of 3521.\n"
       ]
      },
      {
       "output_type": "stream",
       "stream": "stderr",
       "text": [
        "[2015-08-31 22:05] INFO: Performance: first open: 2000-01-03 14:31:00+00:00\n"
       ]
      },
      {
       "output_type": "stream",
       "stream": "stderr",
       "text": [
        "[2015-08-31 22:05] INFO: Performance: last close: 2013-12-31 21:00:00+00:00\n"
       ]
      },
      {
       "output_type": "stream",
       "stream": "stdout",
       "text": [
        "AAPL\n"
       ]
      },
      {
       "ename": "NameError",
       "evalue": "global name 'plt' is not defined",
       "output_type": "pyerr",
       "traceback": [
        "\u001b[0;31m---------------------------------------------------------------------------\u001b[0m\n\u001b[0;31mNameError\u001b[0m                                 Traceback (most recent call last)",
        "\u001b[0;32m<ipython-input-17-128e9a2a2b33>\u001b[0m in \u001b[0;36m<module>\u001b[0;34m()\u001b[0m\n\u001b[0;32m----> 1\u001b[0;31m \u001b[0mget_ipython\u001b[0m\u001b[0;34m(\u001b[0m\u001b[0;34m)\u001b[0m\u001b[0;34m.\u001b[0m\u001b[0mrun_cell_magic\u001b[0m\u001b[0;34m(\u001b[0m\u001b[0;34mu'zipline'\u001b[0m\u001b[0;34m,\u001b[0m \u001b[0;34mu'--start 2000-1-1 --end 2014-1-1 --symbols AAPL -o perf_dma'\u001b[0m\u001b[0;34m,\u001b[0m \u001b[0;34mu\"\\nfrom zipline.api import order_target, record, symbol, history, add_history\\nimport numpy as np\\n\\ndef initialize(context):\\n    # Register 2 histories that track daily prices,\\n    # one with a 100 window and one with a 300 day window\\n    add_history(100, '1d', 'price')\\n    add_history(300, '1d', 'price')\\n\\n    context.i = 0\\n\\n\\ndef handle_data(context, data):\\n    # Skip first 300 days to get full windows\\n    context.i += 1\\n    if context.i < 300:\\n        return\\n\\n    # Compute averages\\n    # history() has to be called with the same params\\n    # from above and returns a pandas dataframe.\\n    short_mavg = history(100, '1d', 'price').mean()\\n    long_mavg = history(300, '1d', 'price').mean()\\n\\n    # Trading logic\\n    if short_mavg[0] > long_mavg[0]:\\n        # order_target orders as many shares as needed to\\n        # achieve the desired number of shares.\\n        order_target(symbol('AAPL'), 100)\\n    elif short_mavg[0] < long_mavg[0]:\\n        order_target(symbol('AAPL'), 0)\\n\\n    # Save values for later inspection\\n    record(AAPL=data[symbol('AAPL')].price,\\n           short_mavg=short_mavg[0],\\n           long_mavg=long_mavg[0])\\n\\n\\ndef analyze(context, perf):\\n    fig = plt.figure()\\n    ax1 = fig.add_subplot(211)\\n    perf.portfolio_value.plot(ax=ax1)\\n    ax1.set_ylabel('portfolio value in $')\\n\\n    ax2 = fig.add_subplot(212)\\n    perf['AAPL'].plot(ax=ax2)\\n    perf[['short_mavg', 'long_mavg']].plot(ax=ax2)\\n\\n    perf_trans = perf.ix[[t != [] for t in perf.transactions]]\\n    buys = perf_trans.ix[[t[0]['amount'] > 0 for t in perf_trans.transactions]]\\n    sells = perf_trans.ix[\\n        [t[0]['amount'] < 0 for t in perf_trans.transactions]]\\n    ax2.plot(buys.index, perf.short_mavg.ix[buys.index],\\n             '^', markersize=10, color='m')\\n    ax2.plot(sells.index, perf.short_mavg.ix[sells.index],\\n             'v', markersize=10, color='k')\\n    ax2.set_ylabel('price in $')\\n    plt.legend(loc=0)\\n    plt.show()\"\u001b[0m\u001b[0;34m)\u001b[0m\u001b[0;34m\u001b[0m\u001b[0m\n\u001b[0m",
        "\u001b[0;32m/Users/bwu/anaconda/lib/python2.7/site-packages/IPython/core/interactiveshell.pyc\u001b[0m in \u001b[0;36mrun_cell_magic\u001b[0;34m(self, magic_name, line, cell)\u001b[0m\n\u001b[1;32m   2160\u001b[0m             \u001b[0mmagic_arg_s\u001b[0m \u001b[0;34m=\u001b[0m \u001b[0mself\u001b[0m\u001b[0;34m.\u001b[0m\u001b[0mvar_expand\u001b[0m\u001b[0;34m(\u001b[0m\u001b[0mline\u001b[0m\u001b[0;34m,\u001b[0m \u001b[0mstack_depth\u001b[0m\u001b[0;34m)\u001b[0m\u001b[0;34m\u001b[0m\u001b[0m\n\u001b[1;32m   2161\u001b[0m             \u001b[0;32mwith\u001b[0m \u001b[0mself\u001b[0m\u001b[0;34m.\u001b[0m\u001b[0mbuiltin_trap\u001b[0m\u001b[0;34m:\u001b[0m\u001b[0;34m\u001b[0m\u001b[0m\n\u001b[0;32m-> 2162\u001b[0;31m                 \u001b[0mresult\u001b[0m \u001b[0;34m=\u001b[0m \u001b[0mfn\u001b[0m\u001b[0;34m(\u001b[0m\u001b[0mmagic_arg_s\u001b[0m\u001b[0;34m,\u001b[0m \u001b[0mcell\u001b[0m\u001b[0;34m)\u001b[0m\u001b[0;34m\u001b[0m\u001b[0m\n\u001b[0m\u001b[1;32m   2163\u001b[0m             \u001b[0;32mreturn\u001b[0m \u001b[0mresult\u001b[0m\u001b[0;34m\u001b[0m\u001b[0m\n\u001b[1;32m   2164\u001b[0m \u001b[0;34m\u001b[0m\u001b[0m\n",
        "\u001b[0;32m/Users/bwu/anaconda/lib/python2.7/site-packages/zipline/utils/cli.pyc\u001b[0m in \u001b[0;36mparse_cell_magic\u001b[0;34m(line, cell)\u001b[0m\n\u001b[1;32m    126\u001b[0m     \u001b[0moutput_var_name\u001b[0m \u001b[0;34m=\u001b[0m \u001b[0margs\u001b[0m\u001b[0;34m.\u001b[0m\u001b[0mpop\u001b[0m\u001b[0;34m(\u001b[0m\u001b[0;34m'output'\u001b[0m\u001b[0;34m,\u001b[0m \u001b[0mNone\u001b[0m\u001b[0;34m)\u001b[0m\u001b[0;34m\u001b[0m\u001b[0m\n\u001b[1;32m    127\u001b[0m \u001b[0;34m\u001b[0m\u001b[0m\n\u001b[0;32m--> 128\u001b[0;31m     \u001b[0mperf\u001b[0m \u001b[0;34m=\u001b[0m \u001b[0mrun_pipeline\u001b[0m\u001b[0;34m(\u001b[0m\u001b[0mprint_algo\u001b[0m\u001b[0;34m=\u001b[0m\u001b[0mFalse\u001b[0m\u001b[0;34m,\u001b[0m \u001b[0malgo_text\u001b[0m\u001b[0;34m=\u001b[0m\u001b[0mcell\u001b[0m\u001b[0;34m,\u001b[0m \u001b[0;34m**\u001b[0m\u001b[0margs\u001b[0m\u001b[0;34m)\u001b[0m\u001b[0;34m\u001b[0m\u001b[0m\n\u001b[0m\u001b[1;32m    129\u001b[0m \u001b[0;34m\u001b[0m\u001b[0m\n\u001b[1;32m    130\u001b[0m     \u001b[0;32mif\u001b[0m \u001b[0moutput_var_name\u001b[0m \u001b[0;32mis\u001b[0m \u001b[0;32mnot\u001b[0m \u001b[0mNone\u001b[0m\u001b[0;34m:\u001b[0m\u001b[0;34m\u001b[0m\u001b[0m\n",
        "\u001b[0;32m/Users/bwu/anaconda/lib/python2.7/site-packages/zipline/utils/cli.pyc\u001b[0m in \u001b[0;36mrun_pipeline\u001b[0;34m(print_algo, **kwargs)\u001b[0m\n\u001b[1;32m    190\u001b[0m                                     capital_base=float(kwargs['capital_base']))\n\u001b[1;32m    191\u001b[0m \u001b[0;34m\u001b[0m\u001b[0m\n\u001b[0;32m--> 192\u001b[0;31m     \u001b[0mperf\u001b[0m \u001b[0;34m=\u001b[0m \u001b[0malgo\u001b[0m\u001b[0;34m.\u001b[0m\u001b[0mrun\u001b[0m\u001b[0;34m(\u001b[0m\u001b[0msource\u001b[0m\u001b[0;34m)\u001b[0m\u001b[0;34m\u001b[0m\u001b[0m\n\u001b[0m\u001b[1;32m    193\u001b[0m \u001b[0;34m\u001b[0m\u001b[0m\n\u001b[1;32m    194\u001b[0m     \u001b[0moutput_fname\u001b[0m \u001b[0;34m=\u001b[0m \u001b[0mkwargs\u001b[0m\u001b[0;34m.\u001b[0m\u001b[0mget\u001b[0m\u001b[0;34m(\u001b[0m\u001b[0;34m'output'\u001b[0m\u001b[0;34m,\u001b[0m \u001b[0mNone\u001b[0m\u001b[0;34m)\u001b[0m\u001b[0;34m\u001b[0m\u001b[0m\n",
        "\u001b[0;32m/Users/bwu/anaconda/lib/python2.7/site-packages/zipline/algorithm.pyc\u001b[0m in \u001b[0;36mrun\u001b[0;34m(self, source, overwrite_sim_params, benchmark_return_source)\u001b[0m\n\u001b[1;32m    427\u001b[0m             \u001b[0mdaily_stats\u001b[0m \u001b[0;34m=\u001b[0m \u001b[0mself\u001b[0m\u001b[0;34m.\u001b[0m\u001b[0m_create_daily_stats\u001b[0m\u001b[0;34m(\u001b[0m\u001b[0mperfs\u001b[0m\u001b[0;34m)\u001b[0m\u001b[0;34m\u001b[0m\u001b[0m\n\u001b[1;32m    428\u001b[0m \u001b[0;34m\u001b[0m\u001b[0m\n\u001b[0;32m--> 429\u001b[0;31m         \u001b[0mself\u001b[0m\u001b[0;34m.\u001b[0m\u001b[0manalyze\u001b[0m\u001b[0;34m(\u001b[0m\u001b[0mdaily_stats\u001b[0m\u001b[0;34m)\u001b[0m\u001b[0;34m\u001b[0m\u001b[0m\n\u001b[0m\u001b[1;32m    430\u001b[0m \u001b[0;34m\u001b[0m\u001b[0m\n\u001b[1;32m    431\u001b[0m         \u001b[0;32mreturn\u001b[0m \u001b[0mdaily_stats\u001b[0m\u001b[0;34m\u001b[0m\u001b[0m\n",
        "\u001b[0;32m/Users/bwu/anaconda/lib/python2.7/site-packages/zipline/algorithm.pyc\u001b[0m in \u001b[0;36manalyze\u001b[0;34m(self, perf)\u001b[0m\n\u001b[1;32m    231\u001b[0m \u001b[0;34m\u001b[0m\u001b[0m\n\u001b[1;32m    232\u001b[0m         \u001b[0;32mwith\u001b[0m \u001b[0mZiplineAPI\u001b[0m\u001b[0;34m(\u001b[0m\u001b[0mself\u001b[0m\u001b[0;34m)\u001b[0m\u001b[0;34m:\u001b[0m\u001b[0;34m\u001b[0m\u001b[0m\n\u001b[0;32m--> 233\u001b[0;31m             \u001b[0mself\u001b[0m\u001b[0;34m.\u001b[0m\u001b[0m_analyze\u001b[0m\u001b[0;34m(\u001b[0m\u001b[0mself\u001b[0m\u001b[0;34m,\u001b[0m \u001b[0mperf\u001b[0m\u001b[0;34m)\u001b[0m\u001b[0;34m\u001b[0m\u001b[0m\n\u001b[0m\u001b[1;32m    234\u001b[0m \u001b[0;34m\u001b[0m\u001b[0m\n\u001b[1;32m    235\u001b[0m     \u001b[0;32mdef\u001b[0m \u001b[0m__repr__\u001b[0m\u001b[0;34m(\u001b[0m\u001b[0mself\u001b[0m\u001b[0;34m)\u001b[0m\u001b[0;34m:\u001b[0m\u001b[0;34m\u001b[0m\u001b[0m\n",
        "\u001b[0;32m<string>\u001b[0m in \u001b[0;36manalyze\u001b[0;34m(context, perf)\u001b[0m\n",
        "\u001b[0;31mNameError\u001b[0m: global name 'plt' is not defined"
       ]
      }
     ],
     "prompt_number": 17
    },
    {
     "cell_type": "code",
     "collapsed": false,
     "input": [],
     "language": "python",
     "metadata": {},
     "outputs": []
    },
    {
     "cell_type": "code",
     "collapsed": false,
     "input": [],
     "language": "python",
     "metadata": {},
     "outputs": []
    },
    {
     "cell_type": "code",
     "collapsed": false,
     "input": [],
     "language": "python",
     "metadata": {},
     "outputs": []
    },
    {
     "cell_type": "code",
     "collapsed": false,
     "input": [],
     "language": "python",
     "metadata": {},
     "outputs": []
    }
   ],
   "metadata": {}
  }
 ]
}