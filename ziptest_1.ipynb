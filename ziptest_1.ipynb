{
 "metadata": {
  "name": "",
  "signature": "sha256:014a73caa000d3b4ac1fe0dcee7eae2c0a9d8e91432be7b1339fe66701e52e3d"
 },
 "nbformat": 3,
 "nbformat_minor": 0,
 "worksheets": [
  {
   "cells": [
    {
     "cell_type": "code",
     "collapsed": false,
     "input": [
      "import zipline"
     ],
     "language": "python",
     "metadata": {},
     "outputs": []
    },
    {
     "cell_type": "code",
     "collapsed": false,
     "input": [
      "%%zipline --start 2000-1-1 --end 2014-1-1 --symbols AAPL -o perf_ipython\n",
      "\n",
      "from zipline.api import symbol, order, record\n",
      "\n",
      "def initialize(context):\n",
      "    pass\n",
      "\n",
      "def handle_data(context, data):\n",
      "    order(symbol('AAPL'), 10)\n",
      "    record(AAPL=data[symbol('AAPL')].price)"
     ],
     "language": "python",
     "metadata": {},
     "outputs": [
      {
       "output_type": "stream",
       "stream": "stdout",
       "text": [
        "AAPL\n",
        "data files aren't distributed with source.\n",
        "Fetching data from Yahoo Finance."
       ]
      },
      {
       "output_type": "stream",
       "stream": "stdout",
       "text": [
        "\n",
        "data files aren't distributed with source.\n",
        "Fetching data from data.treasury.gov"
       ]
      },
      {
       "output_type": "stream",
       "stream": "stderr",
       "text": [
        "[2015-08-31 21:47] INFO: Performance: Simulated 3521 trading days out of 3521.\n"
       ]
      },
      {
       "output_type": "stream",
       "stream": "stderr",
       "text": [
        "[2015-08-31 21:47] INFO: Performance: first open: 2000-01-03 14:31:00+00:00\n"
       ]
      },
      {
       "output_type": "stream",
       "stream": "stderr",
       "text": [
        "[2015-08-31 21:47] INFO: Performance: last close: 2013-12-31 21:00:00+00:00\n"
       ]
      },
      {
       "output_type": "stream",
       "stream": "stdout",
       "text": [
        "\n"
       ]
      }
     ],
     "prompt_number": 6
    },
    {
     "cell_type": "code",
     "collapsed": false,
     "input": [],
     "language": "python",
     "metadata": {},
     "outputs": []
    }
   ],
   "metadata": {}
  }
 ]
}